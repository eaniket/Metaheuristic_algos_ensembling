{
 "cells": [
  {
   "cell_type": "code",
   "execution_count": 33,
   "metadata": {},
   "outputs": [],
   "source": [
    "def hybridise(v1,v2,v3,v4,v5,count=5):\n",
    "    count0=0\n",
    "    count1=0\n",
    "    count2=0\n",
    "    unified=[]\n",
    "    unified.append(v1)\n",
    "    unified.append(v2)\n",
    "    unified.append(v3)\n",
    "    unified.append(v4)    \n",
    "    unified.append(v5)\n",
    "    v=[]\n",
    "    for i in range (len(v1)):\n",
    "        count0=0\n",
    "        count1=0\n",
    "        count2=0\n",
    "        for j in range(len(unified)):\n",
    "            if unified[j][i]==0:\n",
    "                count0=count0+1\n",
    "            elif unified[j][i]==1:\n",
    "                count1=count1+1\n",
    "            elif unified[j][i]==2:\n",
    "                count2=count2+1\n",
    "#         print (count0,end=\",\")\n",
    "#         print(count1,end=\",\")\n",
    "#         print(count2,end=\",\")\n",
    "#         print(end=\"\\n\")\n",
    "        if count0>=count1 and count0>=count2:\n",
    "            v.append(0)\n",
    "        elif count1>=count0 and count1>=count2:\n",
    "            v.append(1)\n",
    "        else:\n",
    "            v.append(2)\n",
    "#     for i in range(len(v)):\n",
    "#         print (v[i],end=\",\")\n",
    "    return v"
   ]
  },
  {
   "cell_type": "code",
   "execution_count": 34,
   "metadata": {},
   "outputs": [],
   "source": [
    "def hybridiseWeight(v1,v2,v3,v4,v5,accuracy,count=5):\n",
    "    count0=0\n",
    "    count1=0\n",
    "    count2=0\n",
    "    dsum=0\n",
    "    for i in range(count):\n",
    "        dsum=dsum+accuracy[i]\n",
    "    weights=[]\n",
    "    sum2=0\n",
    "    for i in range(count):\n",
    "        weights.append(accuracy[i]/dsum)\n",
    "        sum2=sum2+weights[i]\n",
    "#         print (weights[i],end=\",\")\n",
    "#     print(sum2,end=\"\\n\")\n",
    "    unified=[]\n",
    "    unified.append(v1)\n",
    "    unified.append(v2)\n",
    "    unified.append(v3)\n",
    "    unified.append(v4)    \n",
    "    unified.append(v5)\n",
    "    v=[]\n",
    "    for i in range (len(v1)):\n",
    "        count0=0\n",
    "        count1=0\n",
    "        count2=0\n",
    "        for j in range(len(unified)):\n",
    "            if unified[j][i]==0:\n",
    "                count0=count0+weights[j]\n",
    "            elif unified[j][i]==1:\n",
    "                count1=count1+weights[j]\n",
    "            elif unified[j][i]==2:\n",
    "                count2=count2+weights[j]\n",
    "#         print (count0,end=\",\")\n",
    "#         print(count1,end=\",\")\n",
    "#         print(count2,end=\",\")\n",
    "#         print(end=\"\\n\")\n",
    "        if count0>=count1 and count0>=count2:\n",
    "            v.append(0)\n",
    "        elif count1>=count0 and count1>=count2:\n",
    "            v.append(1)\n",
    "        else:\n",
    "            v.append(2)\n",
    "#     print(len(v))\n",
    "    return v\n",
    "    "
   ]
  },
  {
   "cell_type": "code",
   "execution_count": 35,
   "metadata": {},
   "outputs": [
    {
     "name": "stdout",
     "output_type": "stream",
     "text": [
      "150\n",
      "150\n"
     ]
    }
   ],
   "source": [
    "import random\n",
    "v1=[]\n",
    "v2=[]\n",
    "v3=[]\n",
    "v4=[]\n",
    "v5=[]\n",
    "for i in range(150):\n",
    "    v1.append(random.randint(0,2))\n",
    "    v2.append(random.randint(0,2))\n",
    "    v3.append(random.randint(0,2)) \n",
    "    v4.append(random.randint(0,2)) \n",
    "    v5.append(random.randint(0,2))\n",
    "accuracy=[0.13,0.95,0.63,0.54,0.88]\n",
    "print(len(hybridise(v1,v2,v3,v4,v5)))\n",
    "print(len(hybridiseWeight(v1,v2,v3,v4,v5,accuracy)))\n"
   ]
  },
  {
   "cell_type": "code",
   "execution_count": null,
   "metadata": {},
   "outputs": [],
   "source": []
  }
 ],
 "metadata": {
  "kernelspec": {
   "display_name": "Python 3",
   "language": "python",
   "name": "python3"
  },
  "language_info": {
   "codemirror_mode": {
    "name": "ipython",
    "version": 3
   },
   "file_extension": ".py",
   "mimetype": "text/x-python",
   "name": "python",
   "nbconvert_exporter": "python",
   "pygments_lexer": "ipython3",
   "version": "3.7.4"
  }
 },
 "nbformat": 4,
 "nbformat_minor": 2
}
